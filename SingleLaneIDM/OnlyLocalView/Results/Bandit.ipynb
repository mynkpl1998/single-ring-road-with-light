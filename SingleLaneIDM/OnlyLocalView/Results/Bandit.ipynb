{
 "cells": [
  {
   "cell_type": "code",
   "execution_count": 1,
   "metadata": {},
   "outputs": [],
   "source": [
    "import numpy as np"
   ]
  },
  {
   "cell_type": "code",
   "execution_count": 19,
   "metadata": {},
   "outputs": [],
   "source": [
    "class Bandit():\n",
    "    \n",
    "    def __init__(self, arms, std=1.0):\n",
    "        self.arms = arms\n",
    "        self.true_mean = np.random.normal(loc=0.0, scale=std, size=(self.arms, ))\n",
    "        self.estimate = np.zeros(shape=(self.arms, ))\n",
    "    \n",
    "    def step(self, action):\n",
    "        \n",
    "        return np.random.normal(loc=self.true_mean[action], scale=1.0)\n",
    "        "
   ]
  },
  {
   "cell_type": "code",
   "execution_count": null,
   "metadata": {},
   "outputs": [],
   "source": [
    "exploration_rate = 0.1\n"
   ]
  }
 ],
 "metadata": {
  "kernelspec": {
   "display_name": "Python 3",
   "language": "python",
   "name": "python3"
  },
  "language_info": {
   "codemirror_mode": {
    "name": "ipython",
    "version": 3
   },
   "file_extension": ".py",
   "mimetype": "text/x-python",
   "name": "python",
   "nbconvert_exporter": "python",
   "pygments_lexer": "ipython3",
   "version": "3.6.8"
  }
 },
 "nbformat": 4,
 "nbformat_minor": 2
}
