{
 "cells": [
  {
   "cell_type": "code",
   "execution_count": 1,
   "metadata": {},
   "outputs": [],
   "source": [
    "import pickle\n",
    "import matplotlib.pyplot as plt\n",
    "import numpy as np\n",
    "import copy"
   ]
  },
  {
   "cell_type": "markdown",
   "metadata": {},
   "source": [
    "# Define dataset to plot here"
   ]
  },
  {
   "cell_type": "code",
   "execution_count": 2,
   "metadata": {},
   "outputs": [],
   "source": [
    "datasetfile_path = \"/home/mayank/Videos/single-ring-road-with-light/SingleLaneIDM/LocalView10Comm10/Results/dataset.pkl\""
   ]
  },
  {
   "cell_type": "markdown",
   "metadata": {},
   "source": [
    "# Load dataset in memory"
   ]
  },
  {
   "cell_type": "code",
   "execution_count": 3,
   "metadata": {},
   "outputs": [],
   "source": [
    "with open(datasetfile_path, \"rb\") as handle:\n",
    "    data_dict = pickle.load(handle)"
   ]
  },
  {
   "cell_type": "markdown",
   "metadata": {},
   "source": [
    "# Dataset Attributes"
   ]
  },
  {
   "cell_type": "code",
   "execution_count": 4,
   "metadata": {},
   "outputs": [
    {
     "name": "stdout",
     "output_type": "stream",
     "text": [
      "20\n",
      "5500\n"
     ]
    }
   ],
   "source": [
    "num_episodes = data_dict[\"num_episodes\"]\n",
    "episode_length = data_dict[\"episode-length\"]\n",
    "time_period = data_dict[\"time-period\"]\n",
    "print(num_episodes)\n",
    "print(episode_length)"
   ]
  },
  {
   "cell_type": "markdown",
   "metadata": {},
   "source": [
    "# Agent Speed as the function of time"
   ]
  },
  {
   "cell_type": "code",
   "execution_count": 5,
   "metadata": {},
   "outputs": [],
   "source": [
    "global_vel_data = {}\n",
    "\n",
    "for density in data_dict[\"data\"].keys():\n",
    "    \n",
    "    vel_data = []\n",
    "    \n",
    "    for episode_num in data_dict[\"data\"][density].keys():\n",
    "            \n",
    "            episode_data = []\n",
    "            \n",
    "            for step in range(0, len(data_dict[\"data\"][density][episode_num][\"agent_vel\"])):\n",
    "                episode_data.append(data_dict[\"data\"][density][episode_num][\"agent_vel\"][step])\n",
    "            \n",
    "            vel_data.append(episode_data)\n",
    "    \n",
    "    global_vel_data[density] = copy.deepcopy(vel_data)\n"
   ]
  },
  {
   "cell_type": "code",
   "execution_count": 6,
   "metadata": {},
   "outputs": [
    {
     "ename": "AttributeError",
     "evalue": "'list' object has no attribute 'mean'",
     "output_type": "error",
     "traceback": [
      "\u001b[0;31m---------------------------------------------------------------------------\u001b[0m",
      "\u001b[0;31mAttributeError\u001b[0m                            Traceback (most recent call last)",
      "\u001b[0;32m<ipython-input-6-e9a601aaf8ad>\u001b[0m in \u001b[0;36m<module>\u001b[0;34m\u001b[0m\n\u001b[1;32m      1\u001b[0m \u001b[0;32mfor\u001b[0m \u001b[0mdensity\u001b[0m \u001b[0;32min\u001b[0m \u001b[0mglobal_vel_data\u001b[0m\u001b[0;34m.\u001b[0m\u001b[0mkeys\u001b[0m\u001b[0;34m(\u001b[0m\u001b[0;34m)\u001b[0m\u001b[0;34m:\u001b[0m\u001b[0;34m\u001b[0m\u001b[0;34m\u001b[0m\u001b[0m\n\u001b[0;32m----> 2\u001b[0;31m     \u001b[0mplt\u001b[0m\u001b[0;34m.\u001b[0m\u001b[0mplot\u001b[0m\u001b[0;34m(\u001b[0m\u001b[0mglobal_vel_data\u001b[0m\u001b[0;34m[\u001b[0m\u001b[0mdensity\u001b[0m\u001b[0;34m]\u001b[0m\u001b[0;34m.\u001b[0m\u001b[0mmean\u001b[0m\u001b[0;34m(\u001b[0m\u001b[0maxis\u001b[0m\u001b[0;34m=\u001b[0m\u001b[0;36m0\u001b[0m\u001b[0;34m)\u001b[0m \u001b[0;34m*\u001b[0m \u001b[0;36m3.6\u001b[0m\u001b[0;34m,\u001b[0m \u001b[0mlabel\u001b[0m\u001b[0;34m=\u001b[0m\u001b[0mdensity\u001b[0m\u001b[0;34m)\u001b[0m\u001b[0;34m\u001b[0m\u001b[0;34m\u001b[0m\u001b[0m\n\u001b[0m\u001b[1;32m      3\u001b[0m \u001b[0mplt\u001b[0m\u001b[0;34m.\u001b[0m\u001b[0mlegend\u001b[0m\u001b[0;34m(\u001b[0m\u001b[0;34m)\u001b[0m\u001b[0;34m\u001b[0m\u001b[0;34m\u001b[0m\u001b[0m\n\u001b[1;32m      4\u001b[0m \u001b[0mplt\u001b[0m\u001b[0;34m.\u001b[0m\u001b[0mxlabel\u001b[0m\u001b[0;34m(\u001b[0m\u001b[0;34m\"time step, period=%.1f seconds\"\u001b[0m\u001b[0;34m%\u001b[0m\u001b[0;34m(\u001b[0m\u001b[0mtime_period\u001b[0m\u001b[0;34m)\u001b[0m\u001b[0;34m)\u001b[0m\u001b[0;34m\u001b[0m\u001b[0;34m\u001b[0m\u001b[0m\n\u001b[1;32m      5\u001b[0m \u001b[0mplt\u001b[0m\u001b[0;34m.\u001b[0m\u001b[0mylabel\u001b[0m\u001b[0;34m(\u001b[0m\u001b[0;34m\"agent speed, (km/hr)\"\u001b[0m\u001b[0;34m)\u001b[0m\u001b[0;34m\u001b[0m\u001b[0;34m\u001b[0m\u001b[0m\n",
      "\u001b[0;31mAttributeError\u001b[0m: 'list' object has no attribute 'mean'"
     ]
    }
   ],
   "source": [
    "for density in global_vel_data.keys():\n",
    "    plt.plot(global_vel_data[density].mean(axis=0) * 3.6, label=density)\n",
    "plt.legend()\n",
    "plt.xlabel(\"time step, period=%.1f seconds\"%(time_period))\n",
    "plt.ylabel(\"agent speed, (km/hr)\")"
   ]
  },
  {
   "cell_type": "markdown",
   "metadata": {},
   "source": [
    "agent is moving at speed much greater than allowed by local view. However, due to pertubation is adapts its velocity."
   ]
  },
  {
   "cell_type": "markdown",
   "metadata": {},
   "source": [
    "# Average Speed as the function of densities"
   ]
  },
  {
   "cell_type": "code",
   "execution_count": 6,
   "metadata": {},
   "outputs": [
    {
     "data": {
      "image/png": "[encoded data removed]",
      "text/plain": [
       "<Figure size 432x288 with 1 Axes>"
      ]
     },
     "metadata": {
      "needs_background": "light"
     },
     "output_type": "display_data"
    }
   ],
   "source": [
    "avg_speeds = []\n",
    "densities = []\n",
    "\n",
    "for density in global_vel_data.keys():\n",
    "    densities.append(density)\n",
    "    \n",
    "    speed_sum = 0.0\n",
    "    elements_count = 0\n",
    "    for episode in global_vel_data[density]:\n",
    "        for vel in episode:\n",
    "            speed_sum += vel\n",
    "            elements_count += 1\n",
    "    \n",
    "    avg_speeds.append((speed_sum/elements_count) * 3.6)\n",
    "\n",
    "plt.bar(np.arange(len(densities)), avg_speeds)\n",
    "plt.xticks(np.arange(len(densities)), densities)\n",
    "\n",
    "plt.xlabel(\"traffic density\")\n",
    "plt.ylabel(\"avg. agent speed (km/hr)\")\n",
    "plt.show()"
   ]
  },
  {
   "cell_type": "code",
   "execution_count": 7,
   "metadata": {},
   "outputs": [
    {
     "name": "stdout",
     "output_type": "stream",
     "text": [
      "[13.366112007273495, 11.706761225454429, 9.722025621818466, 8.061674921284476, 6.403695336064557, 4.81228413849562]\n"
     ]
    }
   ],
   "source": [
    "print(avg_speeds)"
   ]
  },
  {
   "cell_type": "markdown",
   "metadata": {},
   "source": [
    "# Average Reward"
   ]
  },
  {
   "cell_type": "code",
   "execution_count": 8,
   "metadata": {},
   "outputs": [],
   "source": [
    "avg_rewards = []\n",
    "densities = []\n",
    "\n",
    "for density in data_dict[\"data\"].keys():\n",
    "    densities.append(density)\n",
    "    \n",
    "    cum_reward_sum = 0.0\n",
    "    elements_count = 0\n",
    "    \n",
    "    for episode in data_dict[\"data\"][density]:\n",
    "        cum_reward_sum += data_dict[\"data\"][density][episode][\"cum_reward\"]\n",
    "    avg_rewards.append(cum_reward_sum/num_episodes)"
   ]
  },
  {
   "cell_type": "code",
   "execution_count": 9,
   "metadata": {},
   "outputs": [
    {
     "data": {
      "text/plain": [
       "Text(0, 0.5, 'avg. reward')"
      ]
     },
     "execution_count": 9,
     "metadata": {},
     "output_type": "execute_result"
    },
    {
     "data": {
      "image/png": "[encoded data removed]",
      "text/plain": [
       "<Figure size 432x288 with 1 Axes>"
      ]
     },
     "metadata": {
      "needs_background": "light"
     },
     "output_type": "display_data"
    }
   ],
   "source": [
    "plt.bar(np.arange(len(densities)), avg_rewards)\n",
    "plt.xticks(np.arange(len(densities)), densities)\n",
    "plt.xlabel(\"traffic density\")\n",
    "plt.ylabel(\"avg. reward\")"
   ]
  },
  {
   "cell_type": "markdown",
   "metadata": {},
   "source": [
    "# Action Distribution"
   ]
  },
  {
   "cell_type": "code",
   "execution_count": 10,
   "metadata": {},
   "outputs": [
    {
     "ename": "IndexError",
     "evalue": "list index out of range",
     "output_type": "error",
     "traceback": [
      "\u001b[0;31m---------------------------------------------------------------------------\u001b[0m",
      "\u001b[0;31mIndexError\u001b[0m                                Traceback (most recent call last)",
      "\u001b[0;32m<ipython-input-10-c694f738a3b8>\u001b[0m in \u001b[0;36m<module>\u001b[0;34m\u001b[0m\n\u001b[1;32m      9\u001b[0m     \u001b[0;32mfor\u001b[0m \u001b[0mepisode_num\u001b[0m \u001b[0;32min\u001b[0m \u001b[0mdata_dict\u001b[0m\u001b[0;34m[\u001b[0m\u001b[0;34m\"data\"\u001b[0m\u001b[0;34m]\u001b[0m\u001b[0;34m[\u001b[0m\u001b[0mdensity\u001b[0m\u001b[0;34m]\u001b[0m\u001b[0;34m:\u001b[0m\u001b[0;34m\u001b[0m\u001b[0;34m\u001b[0m\u001b[0m\n\u001b[1;32m     10\u001b[0m         \u001b[0;32mfor\u001b[0m \u001b[0mstep\u001b[0m \u001b[0;32min\u001b[0m \u001b[0mrange\u001b[0m\u001b[0;34m(\u001b[0m\u001b[0;36m0\u001b[0m\u001b[0;34m,\u001b[0m \u001b[0mepisode_length\u001b[0m\u001b[0;34m)\u001b[0m\u001b[0;34m:\u001b[0m\u001b[0;34m\u001b[0m\u001b[0;34m\u001b[0m\u001b[0m\n\u001b[0;32m---> 11\u001b[0;31m             \u001b[0maction_distribution\u001b[0m\u001b[0;34m[\u001b[0m\u001b[0mdensity\u001b[0m\u001b[0;34m]\u001b[0m\u001b[0;34m[\u001b[0m\u001b[0mdata_dict\u001b[0m\u001b[0;34m[\u001b[0m\u001b[0;34m\"data\"\u001b[0m\u001b[0;34m]\u001b[0m\u001b[0;34m[\u001b[0m\u001b[0mdensity\u001b[0m\u001b[0;34m]\u001b[0m\u001b[0;34m[\u001b[0m\u001b[0mepisode_num\u001b[0m\u001b[0;34m]\u001b[0m\u001b[0;34m[\u001b[0m\u001b[0;34m\"planner_actions\"\u001b[0m\u001b[0;34m]\u001b[0m\u001b[0;34m[\u001b[0m\u001b[0mstep\u001b[0m\u001b[0;34m]\u001b[0m\u001b[0;34m]\u001b[0m \u001b[0;34m+=\u001b[0m \u001b[0;36m1\u001b[0m\u001b[0;34m\u001b[0m\u001b[0;34m\u001b[0m\u001b[0m\n\u001b[0m",
      "\u001b[0;31mIndexError\u001b[0m: list index out of range"
     ]
    }
   ],
   "source": [
    "possible_actions = {}\n",
    "for element in set(data_dict[\"data\"][0.2][0][\"planner_actions\"]):\n",
    "    possible_actions[element] = 0\n",
    "\n",
    "action_distribution = {}\n",
    "for density in data_dict[\"data\"].keys():\n",
    "    action_distribution[density] = copy.deepcopy(possible_actions)\n",
    "    \n",
    "    for episode_num in data_dict[\"data\"][density]:\n",
    "        for step in range(0, episode_length):\n",
    "            action_distribution[density][data_dict[\"data\"][density][episode_num][\"planner_actions\"][step]] += 1"
   ]
  },
  {
   "cell_type": "code",
   "execution_count": 11,
   "metadata": {},
   "outputs": [
    {
     "data": {
      "text/plain": [
       "{0.2: {'dec': 31965, 'acc': 73850, 'do-nothing': 114185},\n",
       " 0.3: {'dec': 35155, 'acc': 76446, 'do-nothing': 108399},\n",
       " 0.4: {'dec': 39928, 'acc': 76829, 'do-nothing': 103243},\n",
       " 0.5: {'dec': 49635, 'acc': 85120, 'do-nothing': 85245},\n",
       " 0.6: {'dec': 60069, 'acc': 90277, 'do-nothing': 69654},\n",
       " 0.7: {'dec': 67245, 'acc': 88478, 'do-nothing': 64277}}"
      ]
     },
     "execution_count": 11,
     "metadata": {},
     "output_type": "execute_result"
    }
   ],
   "source": [
    "action_distribution"
   ]
  },
  {
   "cell_type": "code",
   "execution_count": 12,
   "metadata": {},
   "outputs": [],
   "source": [
    "for density in action_distribution.keys():\n",
    "    \n",
    "    total = 0\n",
    "    for act in action_distribution[density].keys():\n",
    "        total += action_distribution[density][act]\n",
    "    \n",
    "    assert total == (num_episodes * episode_length)\n",
    "\n",
    "for density in action_distribution.keys():\n",
    "    for action in action_distribution[density].keys():\n",
    "        action_distribution[density][action] /= (num_episodes * episode_length)"
   ]
  },
  {
   "cell_type": "code",
   "execution_count": 13,
   "metadata": {},
   "outputs": [],
   "source": [
    "plots = []\n",
    "order = []\n",
    "\n",
    "for action in action_distribution[0.2].keys():\n",
    "    act_list = []\n",
    "    order.append(action)\n",
    "    for density in action_distribution.keys():\n",
    "        act_list.append(action_distribution[density][action])\n",
    "    \n",
    "    plots.append(act_list)\n",
    "    "
   ]
  },
  {
   "cell_type": "code",
   "execution_count": 14,
   "metadata": {},
   "outputs": [
    {
     "data": {
      "text/plain": [
       "['dec', 'acc', 'do-nothing']"
      ]
     },
     "execution_count": 14,
     "metadata": {},
     "output_type": "execute_result"
    }
   ],
   "source": [
    "order"
   ]
  },
  {
   "cell_type": "code",
   "execution_count": 15,
   "metadata": {},
   "outputs": [
    {
     "data": {
      "image/png": "[encoded data removed]",
      "text/plain": [
       "<Figure size 432x288 with 1 Axes>"
      ]
     },
     "metadata": {
      "needs_background": "light"
     },
     "output_type": "display_data"
    }
   ],
   "source": [
    "width = - 0.2\n",
    "\n",
    "plt.bar(np.arange(len(densities)) - 0.2, plots[0], width=width, label=order[0])\n",
    "plt.bar(np.arange(len(densities)), plots[1], width=width, label=order[1])\n",
    "plt.bar(np.arange(len(densities)) + 0.2, plots[2], width=width, label=order[2])\n",
    "plt.xticks(np.arange(len(densities)), densities)\n",
    "plt.xlabel(\"traffic density\")\n",
    "plt.ylabel(\"action distribution, (%)\")\n",
    "plt.legend()\n",
    "plt.show()"
   ]
  },
  {
   "cell_type": "markdown",
   "metadata": {},
   "source": [
    "# Comm Actions Distribution"
   ]
  },
  {
   "cell_type": "code",
   "execution_count": 16,
   "metadata": {},
   "outputs": [],
   "source": [
    "possible_regs = {}\n",
    "for element in set(data_dict[\"data\"][0.2][0][\"comm_actions\"]):\n",
    "    possible_regs[element] = 0\n",
    "\n",
    "regs_distribution = {}\n",
    "for density in data_dict[\"data\"].keys():\n",
    "    regs_distribution[density] = copy.deepcopy(possible_regs)\n",
    "    \n",
    "    for episode_num in data_dict[\"data\"][density]:\n",
    "        for step in range(0, episode_length):\n",
    "            regs_distribution[density][data_dict[\"data\"][density][episode_num][\"comm_actions\"][step]] += 1"
   ]
  },
  {
   "cell_type": "code",
   "execution_count": 17,
   "metadata": {},
   "outputs": [
    {
     "data": {
      "text/plain": [
       "{0.2: {'reg_1': 214736, 'reg_0': 1757, 'NULL': 3507},\n",
       " 0.3: {'reg_1': 203045, 'reg_0': 5222, 'NULL': 11733},\n",
       " 0.4: {'reg_1': 185705, 'reg_0': 9598, 'NULL': 24697},\n",
       " 0.5: {'reg_1': 153520, 'reg_0': 19864, 'NULL': 46616},\n",
       " 0.6: {'reg_1': 121560, 'reg_0': 27367, 'NULL': 71073},\n",
       " 0.7: {'reg_1': 98956, 'reg_0': 34203, 'NULL': 86841}}"
      ]
     },
     "execution_count": 17,
     "metadata": {},
     "output_type": "execute_result"
    }
   ],
   "source": [
    "regs_distribution"
   ]
  },
  {
   "cell_type": "code",
   "execution_count": 18,
   "metadata": {},
   "outputs": [],
   "source": [
    "for density in regs_distribution.keys():\n",
    "    \n",
    "    total = 0\n",
    "    for act in regs_distribution[density].keys():\n",
    "        total += regs_distribution[density][act]\n",
    "    \n",
    "    assert total == (num_episodes * episode_length)\n",
    "\n",
    "for density in regs_distribution.keys():\n",
    "    for action in regs_distribution[density].keys():\n",
    "        regs_distribution[density][action] /= (num_episodes * episode_length)"
   ]
  },
  {
   "cell_type": "code",
   "execution_count": 19,
   "metadata": {},
   "outputs": [],
   "source": [
    "plots = []\n",
    "order = []\n",
    "\n",
    "for action in regs_distribution[0.2].keys():\n",
    "    act_list = []\n",
    "    order.append(action)\n",
    "    for density in regs_distribution.keys():\n",
    "        act_list.append(regs_distribution[density][action])\n",
    "    \n",
    "    plots.append(act_list)"
   ]
  },
  {
   "cell_type": "code",
   "execution_count": 20,
   "metadata": {},
   "outputs": [
    {
     "data": {
      "text/plain": [
       "['reg_1', 'reg_0', 'NULL']"
      ]
     },
     "execution_count": 20,
     "metadata": {},
     "output_type": "execute_result"
    }
   ],
   "source": [
    "order"
   ]
  },
  {
   "cell_type": "code",
   "execution_count": 21,
   "metadata": {},
   "outputs": [
    {
     "data": {
      "image/png": "[encoded data removed]",
      "text/plain": [
       "<Figure size 432x288 with 1 Axes>"
      ]
     },
     "metadata": {
      "needs_background": "light"
     },
     "output_type": "display_data"
    }
   ],
   "source": [
    "width = 0.2\n",
    "\n",
    "plt.bar(np.arange(len(densities)) - 0.2, plots[0], width=width, label=order[0])\n",
    "plt.bar(np.arange(len(densities)), plots[1], width=width, label=order[1])\n",
    "plt.bar(np.arange(len(densities)) + 0.2, plots[2], width=width, label=order[2])\n",
    "plt.xticks(np.arange(len(densities)), densities)\n",
    "plt.xlabel(\"traffic density\")\n",
    "plt.ylabel(\"query distribution, (%)\")\n",
    "plt.legend()\n",
    "plt.show()"
   ]
  },
  {
   "cell_type": "markdown",
   "metadata": {},
   "source": [
    "# Perception of vehicle"
   ]
  },
  {
   "cell_type": "markdown",
   "metadata": {},
   "source": [
    "<img align=\"left\" src=\"ITSC2019.png\">"
   ]
  }
 ],
 "metadata": {
  "kernelspec": {
   "display_name": "Python 3",
   "language": "python",
   "name": "python3"
  },
  "language_info": {
   "codemirror_mode": {
    "name": "ipython",
    "version": 3
   },
   "file_extension": ".py",
   "mimetype": "text/x-python",
   "name": "python",
   "nbconvert_exporter": "python",
   "pygments_lexer": "ipython3",
   "version": "3.6.8"
  }
 },
 "nbformat": 4,
 "nbformat_minor": 2
}
