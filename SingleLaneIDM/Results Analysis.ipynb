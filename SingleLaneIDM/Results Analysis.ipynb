{
 "cells": [
  {
   "cell_type": "code",
   "execution_count": 12,
   "metadata": {},
   "outputs": [],
   "source": [
    "import pickle\n",
    "import matplotlib.pyplot as plt\n",
    "import numpy as np\n",
    "import copy\n",
    "from sympy.solvers import solve\n",
    "from sympy import Symbol\n",
    "from sympy.functions import Abs"
   ]
  },
  {
   "cell_type": "markdown",
   "metadata": {},
   "source": [
    "<h1 align=\"center\"> Theoretical Bound on Agent Performance </h1>"
   ]
  },
  {
   "cell_type": "markdown",
   "metadata": {},
   "source": [
    "### Agent Reward Function"
   ]
  },
  {
   "cell_type": "markdown",
   "metadata": {},
   "source": [
    "When we talk about the agent's performance we are always interested in maximizing the agent driving utilities. For this study we don't worry about other (non-ego vehicle) performance. Agent Driving utility is to drive as fast possible (obviously less than or equal to max allowed) without colliding into other vehicle which lead to premature termination of the episode. This intent is supplied to agent via reward function defined below which encourages high speeds. \n",
    "\n",
    "$$ R_{t}(s_{t}, a_{t}) = \\frac{v_{t+1}}{v_{max}} $$\n"
   ]
  },
  {
   "cell_type": "markdown",
   "metadata": {},
   "source": [
    "### Understanding Behaviour of IDM vehicle (non- Ego Vehicles)"
   ]
  },
  {
   "cell_type": "markdown",
   "metadata": {},
   "source": [
    "We used Intelligent driver model to model the human driven vehicles. Further, we realized that IDM doesn't really take into the account the range of perception available to the drivers to select its maneuver (acceleration). We made some changes to the model which emulates local view for Human Driven vehicles by placing a vehicle at the limit of local view if there is no vehicle within the range of perception.\n",
    "\n",
    "Modified IDM model is given below.\n",
    "\n",
    "### $$\\dot{v_{\\alpha}} = \\begin{cases} a \\bigg[ 1 - \\big(\\frac{v_{\\alpha}}{v_{0}}\\big)^{\\delta} - \\bigg( \\frac{s^{*}(v_{\\alpha},\\Delta{V}_{\\alpha})}{s_{\\alpha}} \\bigg)^{2} \\bigg] & \\text{ if } s_{\\alpha} \\lt s_{l} \\\\ a \\bigg[ 1 - \\big(\\frac{v_{\\alpha}}{v_{0}}\\big)^{\\delta} - \\bigg( \\frac{s^{*}_{lv}(v_{\\alpha},\\Delta{V}_{\\alpha})}{s_{l}} \\bigg)^{2} \\bigg] & \\text{ else } \\end{cases} $$\n",
    "\n",
    "where,\n",
    "\n",
    "### $$ s^{*}_{lv}(v_{\\alpha},\\Delta{V}_{\\alpha}) = s_{0} +  v_{\\alpha}T + \\frac{v_{\\alpha} (v_{\\alpha} - v_{0})}{2\\sqrt{ab}}$$\n",
    "\n",
    "In Ring Road with local view of 10 metres, if there is no vehicle within the local view of human driven vehicles (in front) the max speed at which vehicle can travel in steady state can be calculated using above equation.\n",
    "\n",
    "$ s_{l} = 10.0$ m, $ a = 0.73 $m/s, $ s_{0} = 2$ m, $ v_{0} = 9$ m/s, $ T = 1.5 $s, $ \\delta = 4 $, $ a = 0.73$ m/$s^{2}$, $ b = 1.67 $ m/$s^{2}$. Solve for $v_{\\alpha}$ by equating $\\dot{v_{\\alpha}}$ to zero."
   ]
  },
  {
   "cell_type": "code",
   "execution_count": 2,
   "metadata": {},
   "outputs": [],
   "source": [
    "# v = valpha\n",
    "sl = 10.0\n",
    "a = 0.73\n",
    "s0 = 2\n",
    "v0 = 9\n",
    "T = 1.5\n",
    "delta = 4\n",
    "a = 0.73\n",
    "b = 1.67\n",
    "abroot = np.sqrt(a * b)"
   ]
  },
  {
   "cell_type": "code",
   "execution_count": 14,
   "metadata": {
    "scrolled": true
   },
   "outputs": [
    {
     "name": "stdout",
     "output_type": "stream",
     "text": [
      "[-2.22688057155681, 7.33558668285629, 2.73977977809473 - 4.37819012311637*I, 2.73977977809473 + 4.37819012311637*I]\n"
     ]
    }
   ],
   "source": [
    "v = Symbol('v')\n",
    "res = solve(a*(1 - ((v/v0)**delta) - (((s0 + v*T + ((v*(v - v0))/(2 * abroot)))/sl)**2)), v)\n",
    "print(res)"
   ]
  },
  {
   "cell_type": "code",
   "execution_count": 18,
   "metadata": {},
   "outputs": [
    {
     "name": "stdout",
     "output_type": "stream",
     "text": [
      "Possible Solutions are : \n",
      "Solution 1 :  2.22688057155681  =  8.01677005760453 km/hr \n",
      "Solution 2 :  7.33558668285629  =  26.4081120582827 km/hr \n",
      "Solution 3 :  5.16477898719883  =  18.5932043539158 km/hr \n",
      "Solution 4 :  5.16477898719883  =  18.5932043539158 km/hr \n"
     ]
    }
   ],
   "source": [
    "print(\"Possible Solutions are : \")\n",
    "for i, sol in enumerate(res):\n",
    "    print(\"Solution %d : \"%(i+1), Abs(sol), \" = \", Abs(sol) * 3.6, \"km/hr \")"
   ]
  },
  {
   "cell_type": "markdown",
   "metadata": {},
   "source": [
    "Since, speed can't be negative we can rule out the possiblity of solution 1. Either solution 2, 3, or 4 can be our answer. Our simulations shows that at steady state vehicle settles at speed close to solution 3 and 4.\n",
    "\n",
    "Simulation Steady state Speed = 5.43611\n",
    "\n",
    "Analytical Steady state Speed = 5.16477"
   ]
  },
  {
   "cell_type": "code",
   "execution_count": null,
   "metadata": {},
   "outputs": [],
   "source": []
  },
  {
   "cell_type": "markdown",
   "metadata": {},
   "source": [
    "# Agent Behaviour when Pertutation is allowed"
   ]
  },
  {
   "cell_type": "markdown",
   "metadata": {},
   "source": [
    "# All dataset  files location goes here"
   ]
  },
  {
   "cell_type": "code",
   "execution_count": 2,
   "metadata": {},
   "outputs": [
    {
     "name": "stdout",
     "output_type": "stream",
     "text": [
      "{'only local view': '/home/mayank/Videos/single-ring-road-with-light/SingleLaneIDM/OnlyLocalView//Results/dataset.pkl', 'full access comm': '/home/mayank/Videos/single-ring-road-with-light/SingleLaneIDM/CommFullAccess/Results/dataset.pkl', 'restriced access comm': '/home/mayank/Videos/single-ring-road-with-light/SingleLaneIDM/CommRestrictedAccess/Results/dataset.pkl', 'full access comm with age': '/home/mayank/Videos/single-ring-road-with-light/SingleLaneIDMAge/CommFullAccessAge/Results/dataset.pkl'}\n"
     ]
    }
   ],
   "source": [
    "dataset_locs = {\n",
    "    'only local view': \"/home/mayank/Videos/single-ring-road-with-light/SingleLaneIDM/OnlyLocalView//Results/dataset.pkl\",\n",
    "    \"full access comm\": \"/home/mayank/Videos/single-ring-road-with-light/SingleLaneIDM/CommFullAccess/Results/dataset.pkl\",\n",
    "    \"restriced access comm\": \"/home/mayank/Videos/single-ring-road-with-light/SingleLaneIDM/CommRestrictedAccess/Results/dataset.pkl\",\n",
    "    \"full access comm with age\": \"/home/mayank/Videos/single-ring-road-with-light/SingleLaneIDMAge/CommFullAccessAge/Results/dataset.pkl\"\n",
    "}\n",
    "\n",
    "print(dataset_locs)"
   ]
  },
  {
   "cell_type": "markdown",
   "metadata": {},
   "source": [
    "# Read all Dataset"
   ]
  },
  {
   "cell_type": "code",
   "execution_count": 3,
   "metadata": {},
   "outputs": [],
   "source": [
    "def readPKL(fname):\n",
    "    \n",
    "    with open(fname, \"rb\") as handle:\n",
    "        data_dict = pickle.load(handle)\n",
    "    \n",
    "    return copy.deepcopy(data_dict)"
   ]
  },
  {
   "cell_type": "code",
   "execution_count": 4,
   "metadata": {},
   "outputs": [],
   "source": [
    "data_dict = {}\n",
    "for case in dataset_locs.keys():\n",
    "    data_dict[case] = readPKL(dataset_locs[case])\n"
   ]
  },
  {
   "cell_type": "markdown",
   "metadata": {},
   "source": [
    "# Plot Agent Avg Speed"
   ]
  },
  {
   "cell_type": "code",
   "execution_count": 5,
   "metadata": {},
   "outputs": [],
   "source": [
    "agent_vel = {}\n",
    "\n",
    "for case in dataset_locs.keys():\n",
    "    \n",
    "    global_vel_data = {}\n",
    "    \n",
    "    for density in data_dict[case][\"data\"].keys():\n",
    "        vel_data = []\n",
    "        \n",
    "        for episode_num in data_dict[case][\"data\"][density].keys():\n",
    "            episode_data = []\n",
    "            \n",
    "            for step in range(0, len(data_dict[case][\"data\"][density][episode_num][\"agent_vel\"])):\n",
    "                episode_data.append(data_dict[case][\"data\"][density][episode_num][\"agent_vel\"][step])\n",
    "            \n",
    "            vel_data.append(episode_data)\n",
    "        \n",
    "        global_vel_data[density] = copy.deepcopy(vel_data)\n",
    "    \n",
    "    agent_vel[case] = global_vel_data"
   ]
  },
  {
   "cell_type": "code",
   "execution_count": 6,
   "metadata": {},
   "outputs": [],
   "source": [
    "# Length of episodes"
   ]
  },
  {
   "cell_type": "code",
   "execution_count": 7,
   "metadata": {},
   "outputs": [],
   "source": [
    "avg_speeds_case = {}\n",
    "density_dict = {}\n",
    "\n",
    "for case in agent_vel.keys():\n",
    "    \n",
    "    avg_speeds = []\n",
    "    densities = []\n",
    "    \n",
    "    for density in agent_vel[case].keys():\n",
    "        densities.append(density)\n",
    "        \n",
    "        speed_sum = 0.0\n",
    "        elements_count = 0\n",
    "        for episode in agent_vel[case][density]:\n",
    "            for vel in episode:\n",
    "                speed_sum += vel\n",
    "                elements_count += 1\n",
    "        \n",
    "        avg_speeds.append((speed_sum / elements_count) * 3.6)\n",
    "    \n",
    "    avg_speeds_case[case] = copy.deepcopy(avg_speeds)\n",
    "    density_dict[case] = copy.deepcopy(densities)"
   ]
  },
  {
   "cell_type": "code",
   "execution_count": 8,
   "metadata": {},
   "outputs": [
    {
     "data": {
      "text/plain": [
       "{'only local view': [12.446297008033763,\n",
       "  11.417813125968555,\n",
       "  9.498130960157729,\n",
       "  8.112635317876025,\n",
       "  6.424125692778512,\n",
       "  4.9684768144419795],\n",
       " 'full access comm': [13.946838496895143,\n",
       "  12.359725615405655,\n",
       "  10.231530030309015,\n",
       "  7.964076996528209,\n",
       "  6.464290830945328,\n",
       "  4.817404410745194],\n",
       " 'restriced access comm': [13.520460370907468,\n",
       "  11.867128456137783,\n",
       "  9.839106647129023,\n",
       "  7.916081111331805,\n",
       "  6.400338935518665,\n",
       "  4.820495870956592],\n",
       " 'full access comm with age': [13.319989050538299,\n",
       "  11.677418401917327,\n",
       "  9.829366032787341,\n",
       "  7.698189519819775,\n",
       "  5.912349189296889,\n",
       "  4.875985835977721]}"
      ]
     },
     "execution_count": 8,
     "metadata": {},
     "output_type": "execute_result"
    }
   ],
   "source": [
    "avg_speeds_case"
   ]
  },
  {
   "cell_type": "code",
   "execution_count": 9,
   "metadata": {},
   "outputs": [
    {
     "name": "stdout",
     "output_type": "stream",
     "text": [
      "only local view\n",
      "0.2\n",
      "full access comm\n",
      "0.2\n",
      "restriced access comm\n",
      "0.2\n",
      "full access comm with age\n",
      "0.2\n"
     ]
    },
    {
     "data": {
      "image/png": "[encoded data removed]",
      "text/plain": [
       "<Figure size 432x288 with 1 Axes>"
      ]
     },
     "metadata": {
      "needs_background": "light"
     },
     "output_type": "display_data"
    }
   ],
   "source": [
    "width = 0.2\n",
    "start = -width\n",
    "\n",
    "for case in avg_speeds_case.keys():\n",
    "    print(case)\n",
    "    plt.bar(np.arange(len(density_dict[case])) + start, avg_speeds_case[case], width=width, label=case)\n",
    "    print(width)\n",
    "    start += 0.2\n",
    "\n",
    "plt.legend()\n",
    "plt.xticks(ticks=np.arange(len(density_dict[case])), labels=[0.2, 0.3, 0.4, 0.5, 0.6, 0.7])\n",
    "plt.xlabel(\"Traffic Density\")\n",
    "plt.ylabel(\"Speed (km/hr)\")\n",
    "plt.title(\"Episode Mean Speed\")\n",
    "plt.show()"
   ]
  },
  {
   "cell_type": "code",
   "execution_count": 10,
   "metadata": {},
   "outputs": [
    {
     "data": {
      "text/plain": [
       "{'only local view': [12.446297008033763,\n",
       "  11.417813125968555,\n",
       "  9.498130960157729,\n",
       "  8.112635317876025,\n",
       "  6.424125692778512,\n",
       "  4.9684768144419795],\n",
       " 'full access comm': [13.946838496895143,\n",
       "  12.359725615405655,\n",
       "  10.231530030309015,\n",
       "  7.964076996528209,\n",
       "  6.464290830945328,\n",
       "  4.817404410745194],\n",
       " 'restriced access comm': [13.520460370907468,\n",
       "  11.867128456137783,\n",
       "  9.839106647129023,\n",
       "  7.916081111331805,\n",
       "  6.400338935518665,\n",
       "  4.820495870956592],\n",
       " 'full access comm with age': [13.319989050538299,\n",
       "  11.677418401917327,\n",
       "  9.829366032787341,\n",
       "  7.698189519819775,\n",
       "  5.912349189296889,\n",
       "  4.875985835977721]}"
      ]
     },
     "execution_count": 10,
     "metadata": {},
     "output_type": "execute_result"
    }
   ],
   "source": [
    "avg_speeds_case"
   ]
  }
 ],
 "metadata": {
  "kernelspec": {
   "display_name": "Python 3",
   "language": "python",
   "name": "python3"
  },
  "language_info": {
   "codemirror_mode": {
    "name": "ipython",
    "version": 3
   },
   "file_extension": ".py",
   "mimetype": "text/x-python",
   "name": "python",
   "nbconvert_exporter": "python",
   "pygments_lexer": "ipython3",
   "version": "3.6.8"
  }
 },
 "nbformat": 4,
 "nbformat_minor": 2
}
