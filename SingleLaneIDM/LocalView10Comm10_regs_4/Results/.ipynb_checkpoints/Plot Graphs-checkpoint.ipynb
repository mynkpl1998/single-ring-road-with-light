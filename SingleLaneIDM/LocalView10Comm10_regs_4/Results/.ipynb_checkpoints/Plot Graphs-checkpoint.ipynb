{
 "cells": [
  {
   "cell_type": "code",
   "execution_count": 17,
   "metadata": {},
   "outputs": [],
   "source": [
    "import pickle\n",
    "import matplotlib.pyplot as plt\n",
    "import numpy as np\n",
    "import copy"
   ]
  },
  {
   "cell_type": "markdown",
   "metadata": {},
   "source": [
    "# Define dataset to plot here"
   ]
  },
  {
   "cell_type": "code",
   "execution_count": 18,
   "metadata": {},
   "outputs": [],
   "source": [
    "datasetfile_path = \"/home/mayank/Videos/single-ring-road-with-light/SingleLaneIDM/LocalView10Comm10_regs_4/Results/dataset.pkl\""
   ]
  },
  {
   "cell_type": "markdown",
   "metadata": {},
   "source": [
    "# Load dataset in memory"
   ]
  },
  {
   "cell_type": "code",
   "execution_count": 48,
   "metadata": {},
   "outputs": [],
   "source": [
    "with open(datasetfile_path, \"rb\") as handle:\n",
    "    data_dict = pickle.load(handle)"
   ]
  },
  {
   "cell_type": "markdown",
   "metadata": {},
   "source": [
    "# Dataset Attributes"
   ]
  },
  {
   "cell_type": "code",
   "execution_count": 49,
   "metadata": {},
   "outputs": [
    {
     "name": "stdout",
     "output_type": "stream",
     "text": [
      "40\n"
     ]
    }
   ],
   "source": [
    "num_episodes = data_dict[\"num_episodes\"]\n",
    "episode_length = data_dict[\"episode-length\"]\n",
    "time_period = data_dict[\"time-period\"]\n",
    "print(num_episodes)"
   ]
  },
  {
   "cell_type": "code",
   "execution_count": 31,
   "metadata": {},
   "outputs": [
    {
     "data": {
      "text/plain": [
       "0.073"
      ]
     },
     "execution_count": 31,
     "metadata": {},
     "output_type": "execute_result"
    }
   ],
   "source": [
    "data_dict[\"data\"][0.2][0][\"agent_vel\"][0]"
   ]
  },
  {
   "cell_type": "markdown",
   "metadata": {},
   "source": [
    "# Agent Speed as the function of time"
   ]
  },
  {
   "cell_type": "code",
   "execution_count": 50,
   "metadata": {},
   "outputs": [],
   "source": [
    "global_vel_data = {}\n",
    "\n",
    "for density in data_dict[\"data\"].keys():\n",
    "    \n",
    "    vel_data = []\n",
    "    \n",
    "    for episode_num in data_dict[\"data\"][density].keys():\n",
    "            \n",
    "            episode_data = []\n",
    "            \n",
    "            for step in range(0, len(data_dict[\"data\"][density][episode_num][\"agent_vel\"])):\n",
    "                episode_data.append(data_dict[\"data\"][density][episode_num][\"agent_vel\"][step])\n",
    "            \n",
    "            vel_data.append(episode_data)\n",
    "    \n",
    "    global_vel_data[density] = copy.deepcopy(vel_data)\n"
   ]
  },
  {
   "cell_type": "markdown",
   "metadata": {},
   "source": [
    "agent is moving at speed much greater than allowed by local view. However, due to pertubation is adapts its velocity."
   ]
  },
  {
   "cell_type": "markdown",
   "metadata": {},
   "source": [
    "# Average Speed as the function of densities"
   ]
  },
  {
   "cell_type": "code",
   "execution_count": 51,
   "metadata": {},
   "outputs": [
    {
     "data": {
      "image/png": "[encoded data removed]",
      "text/plain": [
       "<Figure size 432x288 with 1 Axes>"
      ]
     },
     "metadata": {
      "needs_background": "light"
     },
     "output_type": "display_data"
    }
   ],
   "source": [
    "avg_speeds = []\n",
    "densities = []\n",
    "\n",
    "for density in global_vel_data.keys():\n",
    "    densities.append(density)\n",
    "    \n",
    "    speed_sum = 0.0\n",
    "    elements_count = 0\n",
    "    for episode in global_vel_data[density]:\n",
    "        for vel in episode:\n",
    "            speed_sum += vel\n",
    "            elements_count += 1\n",
    "    \n",
    "    avg_speeds.append((speed_sum/elements_count) * 3.6)\n",
    "\n",
    "plt.bar(np.arange(len(densities)), avg_speeds)\n",
    "plt.xticks(np.arange(len(densities)), densities)\n",
    "\n",
    "plt.xlabel(\"traffic density\")\n",
    "plt.ylabel(\"avg. agent speed (km/hr)\")\n",
    "plt.show()"
   ]
  },
  {
   "cell_type": "markdown",
   "metadata": {},
   "source": [
    "# Average Reward"
   ]
  },
  {
   "cell_type": "code",
   "execution_count": 52,
   "metadata": {},
   "outputs": [],
   "source": [
    "avg_rewards = []\n",
    "densities = []\n",
    "\n",
    "for density in data_dict[\"data\"].keys():\n",
    "    densities.append(density)\n",
    "    \n",
    "    cum_reward_sum = 0.0\n",
    "    elements_count = 0\n",
    "    \n",
    "    for episode in data_dict[\"data\"][density]:\n",
    "        cum_reward_sum += data_dict[\"data\"][density][episode][\"cum_reward\"]\n",
    "    avg_rewards.append(cum_reward_sum/num_episodes)"
   ]
  },
  {
   "cell_type": "code",
   "execution_count": 53,
   "metadata": {},
   "outputs": [
    {
     "data": {
      "text/plain": [
       "Text(0, 0.5, 'avg. reward')"
      ]
     },
     "execution_count": 53,
     "metadata": {},
     "output_type": "execute_result"
    },
    {
     "data": {
      "image/png": "[encoded data removed]",
      "text/plain": [
       "<Figure size 432x288 with 1 Axes>"
      ]
     },
     "metadata": {
      "needs_background": "light"
     },
     "output_type": "display_data"
    }
   ],
   "source": [
    "plt.bar(np.arange(len(densities)), avg_rewards)\n",
    "plt.xticks(np.arange(len(densities)), densities)\n",
    "plt.xlabel(\"traffic density\")\n",
    "plt.ylabel(\"avg. reward\")"
   ]
  },
  {
   "cell_type": "markdown",
   "metadata": {},
   "source": [
    "# Action Distribution"
   ]
  },
  {
   "cell_type": "code",
   "execution_count": 41,
   "metadata": {},
   "outputs": [
    {
     "ename": "IndexError",
     "evalue": "list index out of range",
     "output_type": "error",
     "traceback": [
      "\u001b[0;31m---------------------------------------------------------------------------\u001b[0m",
      "\u001b[0;31mIndexError\u001b[0m                                Traceback (most recent call last)",
      "\u001b[0;32m<ipython-input-41-c694f738a3b8>\u001b[0m in \u001b[0;36m<module>\u001b[0;34m\u001b[0m\n\u001b[1;32m      9\u001b[0m     \u001b[0;32mfor\u001b[0m \u001b[0mepisode_num\u001b[0m \u001b[0;32min\u001b[0m \u001b[0mdata_dict\u001b[0m\u001b[0;34m[\u001b[0m\u001b[0;34m\"data\"\u001b[0m\u001b[0;34m]\u001b[0m\u001b[0;34m[\u001b[0m\u001b[0mdensity\u001b[0m\u001b[0;34m]\u001b[0m\u001b[0;34m:\u001b[0m\u001b[0;34m\u001b[0m\u001b[0;34m\u001b[0m\u001b[0m\n\u001b[1;32m     10\u001b[0m         \u001b[0;32mfor\u001b[0m \u001b[0mstep\u001b[0m \u001b[0;32min\u001b[0m \u001b[0mrange\u001b[0m\u001b[0;34m(\u001b[0m\u001b[0;36m0\u001b[0m\u001b[0;34m,\u001b[0m \u001b[0mepisode_length\u001b[0m\u001b[0;34m)\u001b[0m\u001b[0;34m:\u001b[0m\u001b[0;34m\u001b[0m\u001b[0;34m\u001b[0m\u001b[0m\n\u001b[0;32m---> 11\u001b[0;31m             \u001b[0maction_distribution\u001b[0m\u001b[0;34m[\u001b[0m\u001b[0mdensity\u001b[0m\u001b[0;34m]\u001b[0m\u001b[0;34m[\u001b[0m\u001b[0mdata_dict\u001b[0m\u001b[0;34m[\u001b[0m\u001b[0;34m\"data\"\u001b[0m\u001b[0;34m]\u001b[0m\u001b[0;34m[\u001b[0m\u001b[0mdensity\u001b[0m\u001b[0;34m]\u001b[0m\u001b[0;34m[\u001b[0m\u001b[0mepisode_num\u001b[0m\u001b[0;34m]\u001b[0m\u001b[0;34m[\u001b[0m\u001b[0;34m\"planner_actions\"\u001b[0m\u001b[0;34m]\u001b[0m\u001b[0;34m[\u001b[0m\u001b[0mstep\u001b[0m\u001b[0;34m]\u001b[0m\u001b[0;34m]\u001b[0m \u001b[0;34m+=\u001b[0m \u001b[0;36m1\u001b[0m\u001b[0;34m\u001b[0m\u001b[0;34m\u001b[0m\u001b[0m\n\u001b[0m",
      "\u001b[0;31mIndexError\u001b[0m: list index out of range"
     ]
    }
   ],
   "source": [
    "possible_actions = {}\n",
    "for element in set(data_dict[\"data\"][0.2][0][\"planner_actions\"]):\n",
    "    possible_actions[element] = 0\n",
    "\n",
    "action_distribution = {}\n",
    "for density in data_dict[\"data\"].keys():\n",
    "    action_distribution[density] = copy.deepcopy(possible_actions)\n",
    "    \n",
    "    for episode_num in data_dict[\"data\"][density]:\n",
    "        for step in range(0, episode_length):\n",
    "            action_distribution[density][data_dict[\"data\"][density][episode_num][\"planner_actions\"][step]] += 1"
   ]
  },
  {
   "cell_type": "code",
   "execution_count": 16,
   "metadata": {},
   "outputs": [
    {
     "data": {
      "text/plain": [
       "{0.2: {'dec': 52249, 'do-nothing': 68236, 'acc': 99515},\n",
       " 0.3: {'dec': 56184, 'do-nothing': 65421, 'acc': 98395},\n",
       " 0.4: {'dec': 61255, 'do-nothing': 64968, 'acc': 93777},\n",
       " 0.5: {'dec': 68559, 'do-nothing': 55578, 'acc': 95863},\n",
       " 0.6: {'dec': 76989, 'do-nothing': 55552, 'acc': 87459},\n",
       " 0.7: {'dec': 83932, 'do-nothing': 53719, 'acc': 82349}}"
      ]
     },
     "execution_count": 16,
     "metadata": {},
     "output_type": "execute_result"
    }
   ],
   "source": [
    "action_distribution"
   ]
  },
  {
   "cell_type": "code",
   "execution_count": 13,
   "metadata": {},
   "outputs": [],
   "source": [
    "for density in action_distribution.keys():\n",
    "    \n",
    "    total = 0\n",
    "    for act in action_distribution[density].keys():\n",
    "        total += action_distribution[density][act]\n",
    "    \n",
    "    assert total == (num_episodes * episode_length)\n",
    "\n",
    "for density in action_distribution.keys():\n",
    "    for action in action_distribution[density].keys():\n",
    "        action_distribution[density][action] /= (num_episodes * episode_length)"
   ]
  },
  {
   "cell_type": "code",
   "execution_count": 14,
   "metadata": {},
   "outputs": [],
   "source": [
    "plots = []\n",
    "order = []\n",
    "\n",
    "for action in action_distribution[0.2].keys():\n",
    "    act_list = []\n",
    "    order.append(action)\n",
    "    for density in action_distribution.keys():\n",
    "        act_list.append(action_distribution[density][action])\n",
    "    \n",
    "    plots.append(act_list)\n",
    "    "
   ]
  },
  {
   "cell_type": "code",
   "execution_count": 15,
   "metadata": {},
   "outputs": [
    {
     "data": {
      "text/plain": [
       "['do-nothing', 'acc', 'dec']"
      ]
     },
     "execution_count": 15,
     "metadata": {},
     "output_type": "execute_result"
    }
   ],
   "source": [
    "order"
   ]
  },
  {
   "cell_type": "code",
   "execution_count": 16,
   "metadata": {},
   "outputs": [
    {
     "data": {
      "image/png": "[encoded data removed]",
      "text/plain": [
       "<Figure size 432x288 with 1 Axes>"
      ]
     },
     "metadata": {
      "needs_background": "light"
     },
     "output_type": "display_data"
    }
   ],
   "source": [
    "width = - 0.2\n",
    "\n",
    "plt.bar(np.arange(len(densities)) - 0.2, plots[0], width=width, label=order[0])\n",
    "plt.bar(np.arange(len(densities)), plots[1], width=width, label=order[1])\n",
    "plt.bar(np.arange(len(densities)) + 0.2, plots[2], width=width, label=order[2])\n",
    "plt.xticks(np.arange(len(densities)), densities)\n",
    "plt.xlabel(\"traffic density\")\n",
    "plt.ylabel(\"action distribution, (%)\")\n",
    "plt.legend()\n",
    "plt.show()"
   ]
  },
  {
   "cell_type": "markdown",
   "metadata": {},
   "source": [
    "# Comm Actions Distribution"
   ]
  },
  {
   "cell_type": "code",
   "execution_count": 17,
   "metadata": {},
   "outputs": [],
   "source": [
    "possible_regs = {}\n",
    "for element in set(data_dict[\"data\"][0.2][0][\"comm_actions\"]):\n",
    "    possible_regs[element] = 0\n",
    "\n",
    "regs_distribution = {}\n",
    "for density in data_dict[\"data\"].keys():\n",
    "    regs_distribution[density] = copy.deepcopy(possible_regs)\n",
    "    \n",
    "    for episode_num in data_dict[\"data\"][density]:\n",
    "        for step in range(0, episode_length):\n",
    "            regs_distribution[density][data_dict[\"data\"][density][episode_num][\"comm_actions\"][step]] += 1"
   ]
  },
  {
   "cell_type": "code",
   "execution_count": 18,
   "metadata": {},
   "outputs": [
    {
     "data": {
      "text/plain": [
       "{0.2: {'reg_3': 32686,\n",
       "  'reg_1': 18523,\n",
       "  'reg_0': 22103,\n",
       "  'NULL': 23408,\n",
       "  'reg_2': 23280},\n",
       " 0.3: {'reg_3': 31831,\n",
       "  'reg_1': 18635,\n",
       "  'reg_0': 21752,\n",
       "  'NULL': 24630,\n",
       "  'reg_2': 23152},\n",
       " 0.4: {'reg_3': 30913,\n",
       "  'reg_1': 18774,\n",
       "  'reg_0': 21175,\n",
       "  'NULL': 25353,\n",
       "  'reg_2': 23785},\n",
       " 0.5: {'reg_3': 32673,\n",
       "  'reg_1': 16710,\n",
       "  'reg_0': 20011,\n",
       "  'NULL': 25802,\n",
       "  'reg_2': 24804},\n",
       " 0.6: {'reg_3': 31810,\n",
       "  'reg_1': 16646,\n",
       "  'reg_0': 20599,\n",
       "  'NULL': 27439,\n",
       "  'reg_2': 23506},\n",
       " 0.7: {'reg_3': 30144,\n",
       "  'reg_1': 17423,\n",
       "  'reg_0': 19734,\n",
       "  'NULL': 30245,\n",
       "  'reg_2': 22454}}"
      ]
     },
     "execution_count": 18,
     "metadata": {},
     "output_type": "execute_result"
    }
   ],
   "source": [
    "regs_distribution"
   ]
  },
  {
   "cell_type": "code",
   "execution_count": 19,
   "metadata": {},
   "outputs": [],
   "source": [
    "for density in regs_distribution.keys():\n",
    "    \n",
    "    total = 0\n",
    "    for act in regs_distribution[density].keys():\n",
    "        total += regs_distribution[density][act]\n",
    "    \n",
    "    assert total == (num_episodes * episode_length)\n",
    "\n",
    "for density in regs_distribution.keys():\n",
    "    for action in regs_distribution[density].keys():\n",
    "        regs_distribution[density][action] /= (num_episodes * episode_length)"
   ]
  },
  {
   "cell_type": "code",
   "execution_count": 20,
   "metadata": {},
   "outputs": [],
   "source": [
    "plots = []\n",
    "order = []\n",
    "\n",
    "for action in regs_distribution[0.2].keys():\n",
    "    act_list = []\n",
    "    order.append(action)\n",
    "    for density in regs_distribution.keys():\n",
    "        act_list.append(regs_distribution[density][action])\n",
    "    \n",
    "    plots.append(act_list)"
   ]
  },
  {
   "cell_type": "code",
   "execution_count": 21,
   "metadata": {},
   "outputs": [
    {
     "data": {
      "text/plain": [
       "['reg_3', 'reg_1', 'reg_0', 'NULL', 'reg_2']"
      ]
     },
     "execution_count": 21,
     "metadata": {},
     "output_type": "execute_result"
    }
   ],
   "source": [
    "order"
   ]
  },
  {
   "cell_type": "code",
   "execution_count": 22,
   "metadata": {},
   "outputs": [
    {
     "data": {
      "image/png": "[encoded data removed]",
      "text/plain": [
       "<Figure size 432x288 with 1 Axes>"
      ]
     },
     "metadata": {
      "needs_background": "light"
     },
     "output_type": "display_data"
    }
   ],
   "source": [
    "width = 0.15\n",
    "\n",
    "plt.bar(np.arange(len(densities)) - 0.15, plots[0], width=width, label=order[0])\n",
    "plt.bar(np.arange(len(densities)) - 0.3, plots[1], width=width, label=order[1])\n",
    "plt.bar(np.arange(len(densities)), plots[2], width=width, label=order[2])\n",
    "plt.bar(np.arange(len(densities)) + 0.15, plots[3], width=width, label=order[3])\n",
    "plt.bar(np.arange(len(densities)) + 0.3, plots[4], width=width, label=order[4])\n",
    "plt.xticks(np.arange(len(densities)), densities)\n",
    "plt.xlabel(\"traffic density\")\n",
    "plt.ylabel(\"query distribution, (%)\")\n",
    "plt.legend()\n",
    "plt.show()"
   ]
  },
  {
   "cell_type": "markdown",
   "metadata": {},
   "source": [
    "# Perception of vehicle"
   ]
  },
  {
   "cell_type": "markdown",
   "metadata": {},
   "source": [
    "<img align=\"left\" src=\"ITSC2019.png\">"
   ]
  }
 ],
 "metadata": {
  "kernelspec": {
   "display_name": "Python 3",
   "language": "python",
   "name": "python3"
  },
  "language_info": {
   "codemirror_mode": {
    "name": "ipython",
    "version": 3
   },
   "file_extension": ".py",
   "mimetype": "text/x-python",
   "name": "python",
   "nbconvert_exporter": "python",
   "pygments_lexer": "ipython3",
   "version": "3.6.8"
  }
 },
 "nbformat": 4,
 "nbformat_minor": 2
}
