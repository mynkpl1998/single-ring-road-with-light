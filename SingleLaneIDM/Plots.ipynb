{
 "cells": [
  {
   "cell_type": "code",
   "execution_count": 1,
   "metadata": {},
   "outputs": [],
   "source": [
    "import pickle\n",
    "import matplotlib.pyplot as plt\n",
    "import numpy as np\n",
    "import copy"
   ]
  },
  {
   "cell_type": "markdown",
   "metadata": {},
   "source": [
    "# All dataset  files location goes here"
   ]
  },
  {
   "cell_type": "code",
   "execution_count": 3,
   "metadata": {},
   "outputs": [
    {
     "name": "stdout",
     "output_type": "stream",
     "text": [
      "{'only local view': '/home/mayank/Videos/single-ring-road-with-light/SingleLaneIDM/LocalView10m/Results/dataset.pkl', 'full access comm': '/home/mayank/Videos/single-ring-road-with-light/SingleLaneIDM/LocalView10Comm10/Results/dataset.pkl', 'restriced access comm': '/home/mayank/Videos/single-ring-road-with-light/SingleLaneIDM/LocalView10Comm10_regs_4/Results/dataset.pkl'}\n"
     ]
    }
   ],
   "source": [
    "dataset_locs = {\n",
    "    'only local view': \"/home/mayank/Videos/single-ring-road-with-light/SingleLaneIDM/LocalView10m/Results/dataset.pkl\",\n",
    "    \"full access comm\": \"/home/mayank/Videos/single-ring-road-with-light/SingleLaneIDM/LocalView10Comm10/Results/dataset.pkl\",\n",
    "    \"restriced access comm\": \"/home/mayank/Videos/single-ring-road-with-light/SingleLaneIDM/LocalView10Comm10_regs_4/Results/dataset.pkl\"\n",
    "}\n",
    "\n",
    "print(dataset_locs)"
   ]
  },
  {
   "cell_type": "markdown",
   "metadata": {},
   "source": [
    "# Read all Dataset"
   ]
  },
  {
   "cell_type": "code",
   "execution_count": 4,
   "metadata": {},
   "outputs": [],
   "source": [
    "def readPKL(fname):\n",
    "    \n",
    "    with open(fname, \"rb\") as handle:\n",
    "        data_dict = pickle.load(handle)\n",
    "    \n",
    "    return copy.deepcopy(data_dict)"
   ]
  },
  {
   "cell_type": "code",
   "execution_count": 6,
   "metadata": {},
   "outputs": [],
   "source": [
    "data_dict = {}\n",
    "for case in dataset_locs.keys():\n",
    "    data_dict[case] = readPKL(dataset_locs[case])\n"
   ]
  },
  {
   "cell_type": "markdown",
   "metadata": {},
   "source": [
    "# Plot Agent Avg Speed"
   ]
  },
  {
   "cell_type": "code",
   "execution_count": 17,
   "metadata": {},
   "outputs": [],
   "source": [
    "agent_vel = {}\n",
    "\n",
    "for case in dataset_locs.keys():\n",
    "    \n",
    "    global_vel_data = {}\n",
    "    \n",
    "    for density in data_dict[case][\"data\"].keys():\n",
    "        vel_data = []\n",
    "        \n",
    "        for episode_num in data_dict[case][\"data\"][density].keys():\n",
    "            episode_data = []\n",
    "            \n",
    "            for step in range(0, len(data_dict[case][\"data\"][density][episode_num][\"agent_vel\"])):\n",
    "                episode_data.append(data_dict[case][\"data\"][density][episode_num][\"agent_vel\"][step])\n",
    "            \n",
    "            vel_data.append(episode_data)\n",
    "        \n",
    "        global_vel_data[density] = copy.deepcopy(vel_data)\n",
    "    \n",
    "    agent_vel[case] = global_vel_data"
   ]
  },
  {
   "cell_type": "code",
   "execution_count": 21,
   "metadata": {},
   "outputs": [],
   "source": [
    "# Length of episodes"
   ]
  },
  {
   "cell_type": "code",
   "execution_count": 29,
   "metadata": {},
   "outputs": [],
   "source": [
    "avg_speeds_case = {}\n",
    "density_dict = {}\n",
    "\n",
    "for case in agent_vel.keys():\n",
    "    \n",
    "    avg_speeds = []\n",
    "    densities = []\n",
    "    \n",
    "    for density in agent_vel[case].keys():\n",
    "        densities.append(density)\n",
    "        \n",
    "        speed_sum = 0.0\n",
    "        elements_count = 0\n",
    "        for episode in agent_vel[case][density]:\n",
    "            for vel in episode:\n",
    "                speed_sum += vel\n",
    "                elements_count += 1\n",
    "        \n",
    "        avg_speeds.append((speed_sum / elements_count) * 3.6)\n",
    "    \n",
    "    avg_speeds_case[case] = copy.deepcopy(avg_speeds)\n",
    "    density_dict[case] = copy.deepcopy(densities)"
   ]
  },
  {
   "cell_type": "code",
   "execution_count": 41,
   "metadata": {},
   "outputs": [
    {
     "name": "stdout",
     "output_type": "stream",
     "text": [
      "only local view\n",
      "0.2\n",
      "full access comm\n",
      "0.2\n",
      "restriced access comm\n",
      "0.2\n"
     ]
    },
    {
     "data": {
      "text/plain": [
       "<matplotlib.legend.Legend at 0x7f391c415ef0>"
      ]
     },
     "execution_count": 41,
     "metadata": {},
     "output_type": "execute_result"
    },
    {
     "data": {
      "image/png": "[encoded data removed]",
      "text/plain": [
       "<Figure size 432x288 with 1 Axes>"
      ]
     },
     "metadata": {
      "needs_background": "light"
     },
     "output_type": "display_data"
    }
   ],
   "source": [
    "width = 0.2\n",
    "start = -width\n",
    "\n",
    "for case in avg_speeds_case.keys():\n",
    "    print(case)\n",
    "    plt.bar(np.arange(len(density_dict[case])) + start, avg_speeds_case[case], width=width, label=case)\n",
    "    print(width)\n",
    "    start += 0.2\n",
    "\n",
    "plt.legend()"
   ]
  },
  {
   "cell_type": "code",
   "execution_count": 42,
   "metadata": {},
   "outputs": [
    {
     "data": {
      "text/plain": [
       "{'only local view': [12.446297008033763,\n",
       "  11.417813125968555,\n",
       "  9.498130960157729,\n",
       "  8.112635317876025,\n",
       "  6.424125692778512,\n",
       "  4.9684768144419795],\n",
       " 'full access comm': [13.366112007273495,\n",
       "  11.706761225454429,\n",
       "  9.722025621818466,\n",
       "  8.061674921284476,\n",
       "  6.403695336064557,\n",
       "  4.81228413849562],\n",
       " 'restriced access comm': [14.042117122047257,\n",
       "  12.38598751329333,\n",
       "  10.428649264340455,\n",
       "  7.8566281548150565,\n",
       "  6.534450543154909,\n",
       "  4.907721593608583]}"
      ]
     },
     "execution_count": 42,
     "metadata": {},
     "output_type": "execute_result"
    }
   ],
   "source": [
    "avg_speeds_case"
   ]
  }
 ],
 "metadata": {
  "kernelspec": {
   "display_name": "Python 3",
   "language": "python",
   "name": "python3"
  },
  "language_info": {
   "codemirror_mode": {
    "name": "ipython",
    "version": 3
   },
   "file_extension": ".py",
   "mimetype": "text/x-python",
   "name": "python",
   "nbconvert_exporter": "python",
   "pygments_lexer": "ipython3",
   "version": "3.6.8"
  }
 },
 "nbformat": 4,
 "nbformat_minor": 2
}
