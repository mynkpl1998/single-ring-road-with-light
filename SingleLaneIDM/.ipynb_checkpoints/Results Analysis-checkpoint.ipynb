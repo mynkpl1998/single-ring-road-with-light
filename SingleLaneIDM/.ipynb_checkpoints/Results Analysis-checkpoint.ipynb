{
 "cells": [
  {
   "cell_type": "code",
   "execution_count": 45,
   "metadata": {},
   "outputs": [],
   "source": [
    "import pickle\n",
    "import matplotlib.pyplot as plt\n",
    "import numpy as np\n",
    "import copy\n",
    "from sympy.solvers import solve\n",
    "from sympy import Symbol\n",
    "from sympy.functions import Abs\n",
    "import io\n",
    "import base64\n",
    "from IPython.display import HTML\n",
    "import ipywidgets as widgets"
   ]
  },
  {
   "cell_type": "markdown",
   "metadata": {},
   "source": [
    "<h1 align=\"center\"> Theoretical Bound on Agent Performance </h1>"
   ]
  },
  {
   "cell_type": "markdown",
   "metadata": {},
   "source": [
    "### Agent Reward Function"
   ]
  },
  {
   "cell_type": "markdown",
   "metadata": {},
   "source": [
    "When we talk about the agent's performance we are always interested in maximizing the agent driving utilities. For this study we don't worry about other (non-ego vehicle) performance. Agent Driving utility is to drive as fast possible (obviously less than or equal to max allowed) without colliding into other vehicle which lead to premature termination of the episode. This intent is supplied to agent via reward function defined below which encourages high speeds. \n",
    "\n",
    "$$ R_{t}(s_{t}, a_{t}) = \\frac{v_{t+1}}{v_{max}} $$\n"
   ]
  },
  {
   "cell_type": "markdown",
   "metadata": {},
   "source": [
    "### Understanding Behaviour of IDM vehicle (non- Ego Vehicles)"
   ]
  },
  {
   "cell_type": "markdown",
   "metadata": {},
   "source": [
    "We used Intelligent driver model to model the human driven vehicles. Further, we realized that IDM doesn't really take into the account the range of perception available to the drivers to select its maneuver (acceleration). We made some changes to the model which emulates local view for Human Driven vehicles by placing a vehicle at the limit of local view if there is no vehicle within the range of perception.\n",
    "\n",
    "Modified IDM model is given below.\n",
    "\n",
    "### $$\\dot{v_{\\alpha}} = \\begin{cases} a \\bigg[ 1 - \\big(\\frac{v_{\\alpha}}{v_{0}}\\big)^{\\delta} - \\bigg( \\frac{s^{*}(v_{\\alpha},\\Delta{V}_{\\alpha})}{s_{\\alpha}} \\bigg)^{2} \\bigg] & \\text{ if } s_{\\alpha} \\lt s_{l} \\\\ a \\bigg[ 1 - \\big(\\frac{v_{\\alpha}}{v_{0}}\\big)^{\\delta} - \\bigg( \\frac{s^{*}_{lv}(v_{\\alpha},\\Delta{V}_{\\alpha})}{s_{l}} \\bigg)^{2} \\bigg] & \\text{ else } \\end{cases} $$\n",
    "\n",
    "where,\n",
    "\n",
    "### $$ s^{*}_{lv}(v_{\\alpha},\\Delta{V}_{\\alpha}) = s_{0} +  v_{\\alpha}T + \\frac{v_{\\alpha} (v_{\\alpha} - v_{0})}{2\\sqrt{ab}}$$\n",
    "\n",
    "In Ring Road with local view of 10 metres, if there is no vehicle within the local view of human driven vehicles (in front) the max speed at which vehicle can travel in steady state can be calculated using above equation.\n",
    "\n",
    "$ s_{l} = 10.0$ m, $ a = 0.73 $m/s, $ s_{0} = 2$ m, $ v_{0} = 9$ m/s, $ T = 1.5 $s, $ \\delta = 4 $, $ a = 0.73$ m/$s^{2}$, $ b = 1.67 $ m/$s^{2}$. Solve for $v_{\\alpha}$ by equating $\\dot{v_{\\alpha}}$ to zero."
   ]
  },
  {
   "cell_type": "code",
   "execution_count": 2,
   "metadata": {},
   "outputs": [],
   "source": [
    "# v = valpha\n",
    "sl = 10.0\n",
    "a = 0.73\n",
    "s0 = 2\n",
    "v0 = 9\n",
    "T = 1.5\n",
    "delta = 4\n",
    "a = 0.73\n",
    "b = 1.67\n",
    "abroot = np.sqrt(a * b)"
   ]
  },
  {
   "cell_type": "code",
   "execution_count": 3,
   "metadata": {
    "scrolled": true
   },
   "outputs": [
    {
     "name": "stdout",
     "output_type": "stream",
     "text": [
      "[-2.22688057155681, 7.33558668285629, 2.73977977809473 - 4.37819012311637*I, 2.73977977809473 + 4.37819012311637*I]\n"
     ]
    }
   ],
   "source": [
    "v = Symbol('v')\n",
    "res = solve(a*(1 - ((v/v0)**delta) - (((s0 + v*T + ((v*(v - v0))/(2 * abroot)))/sl)**2)), v)\n",
    "print(res)"
   ]
  },
  {
   "cell_type": "code",
   "execution_count": 4,
   "metadata": {},
   "outputs": [
    {
     "name": "stdout",
     "output_type": "stream",
     "text": [
      "Possible Solutions are : \n",
      "Solution 1 :  2.22688057155681  =  8.01677005760453 km/hr \n",
      "Solution 2 :  7.33558668285629  =  26.4081120582827 km/hr \n",
      "Solution 3 :  5.16477898719883  =  18.5932043539158 km/hr \n",
      "Solution 4 :  5.16477898719883  =  18.5932043539158 km/hr \n"
     ]
    }
   ],
   "source": [
    "print(\"Possible Solutions are : \")\n",
    "for i, sol in enumerate(res):\n",
    "    print(\"Solution %d : \"%(i+1), Abs(sol), \" = \", Abs(sol) * 3.6, \"km/hr \")"
   ]
  },
  {
   "cell_type": "markdown",
   "metadata": {},
   "source": [
    "Since, speed can't be negative we can rule out the possiblity of solution 1. Either solution 2, 3, or 4 can be our answer. Our simulations shows that at steady state vehicle settles at speed close to solution 3 and 4.\n",
    "\n",
    "Simulation Steady state Speed = 5.43611 m/s = 18.59 km/hr\n",
    "\n",
    "Analytical Steady state Speed = 5.16477 m/s = 19.57 km/hr\n",
    "\n",
    "Below is the video of the simulation showing the speed of an IDM vehicle. The grid around the vehicle represents its perception range which is 10 metre in our simulation setting. All the vehicle are driven using modified IDM model."
   ]
  },
  {
   "cell_type": "code",
   "execution_count": 5,
   "metadata": {
    "scrolled": false
   },
   "outputs": [
    {
     "data": {
      "text/html": [
       "<video align=\"center\" controls>\n",
       "  <source src=\"Common/Videos/only_idm_no_tf.mp4\" type=\"video/mp4\">\n",
       "</video>\n"
      ],
      "text/plain": [
       "<IPython.core.display.HTML object>"
      ]
     },
     "metadata": {},
     "output_type": "display_data"
    }
   ],
   "source": [
    "%%HTML\n",
    "<video align=\"center\" controls>\n",
    "  <source src=\"Common/Videos/only_idm_no_tf.mp4\" type=\"video/mp4\">\n",
    "</video>"
   ]
  },
  {
   "cell_type": "markdown",
   "metadata": {},
   "source": [
    "# Different Scenarios"
   ]
  },
  {
   "cell_type": "markdown",
   "metadata": {},
   "source": [
    "This section analyzes the performance of the trained RL agent with different constraints on the range of perception of the ego-vehicle and How size of the query affects the agent performance. We consider the following cases to compare the performance of agent.\n",
    "1. Only Local View\n",
    "\n",
    "    In Local View Only case, Ego vehicle perception range is limited by the data which can be sensed locally using lidars and radars. We set 20 metres of local view (including both front and back) in our simulations. Agent is rewarded for moving. We found that learned policy never picks the speed beyond which it can't decelerate for a given deceleration rate, because a vehicle might come suddenly infront of it. Thus, limiting the maximum speed at which Ego vehicle can travel in free-space.\n",
    "    \n",
    "    ![](https://raw.githubusercontent.com/mynkpl1998/single-ring-road-with-light/master/SingleLaneIDM/dash_app/data/local_view.png)\n",
    "    \n",
    "    \n",
    "    \n",
    "2. Full Access to Communication\n",
    "\n",
    "    In Local View with Full Access to Communication, Ego vehicle has access to a local view and can receive information of the regions apart from what is locally available over the network. We termed this communicable region as Extended View. We set 20 metres of Extended View (including both ahead and behind the ego vehicle) in simulations apart from local view of 20 metres which is always available. Agent is rewarded for moving and a small reward is added whenever agent chooses not to query which discourages unnecessary communication. We found learned policy was able to pick much higher speed without colliding into other vehicles compared to only Local View. This is because, Communication extends the range of perception of the Ego vehicle which leads much higher driving utlities. In this case we assumed single query can fetch information of the whole extended view.\n",
    "    \n",
    "    ![](https://raw.githubusercontent.com/mynkpl1998/single-ring-road-with-light/master/SingleLaneIDM/dash_app/data/full_comm.png)\n",
    "    \n",
    "    \n",
    "    \n",
    "3. Restricted Access to Communication\n",
    "    \n",
    "    In Local View with Restricted Access to Communication, Ego vehicle has access to local view and can receive information of the regions apart from what is locally available over the network. However, Communication systems have fixed data rate which limits the amount of information which can be exchanged over the network. To simulate the same, extended view is divided into further smaller regions, which restricts the whole information of extended view to be exchanged in a single query. Agent is rewarded for moving and a small reward is added whenever agent chooses not to query which discourages unnecessary communication. We found agent learned to pick a speed much higher than what is allowed by local view and comparable to when agent has access to whole information of extended view. \n",
    "    \n",
    "    ![](https://raw.githubusercontent.com/mynkpl1998/single-ring-road-with-light/master/SingleLaneIDM/dash_app/data/restricted_comm.png)"
   ]
  },
  {
   "cell_type": "markdown",
   "metadata": {},
   "source": [
    "# Utility Funtions - Please Ignore"
   ]
  },
  {
   "cell_type": "code",
   "execution_count": 13,
   "metadata": {},
   "outputs": [],
   "source": [
    "def readPKL(fname):\n",
    "    \n",
    "    with open(fname, \"rb\") as handle:\n",
    "        data_dict = pickle.load(handle)\n",
    "    \n",
    "    return copy.deepcopy(data_dict)"
   ]
  },
  {
   "cell_type": "markdown",
   "metadata": {},
   "source": [
    "# Agent Behaviour when no Pertutation is allowed"
   ]
  },
  {
   "cell_type": "code",
   "execution_count": 12,
   "metadata": {},
   "outputs": [],
   "source": [
    "no_pertub_dataset_locs = {\n",
    "    'Only Local View': \"OnlyLocalView/Results/no_pertub_dataset.pkl\",\n",
    "    'Full Access Comm.': \"CommFullAccess/Results/no_pertub_dataset.pkl\",\n",
    "    'Restricted Access Comm.' : 'CommRestrictedAccess/Results/no_pertub_dataset.pkl'\n",
    "}"
   ]
  },
  {
   "cell_type": "code",
   "execution_count": 15,
   "metadata": {},
   "outputs": [],
   "source": [
    "no_pertub_data_dict = {}\n",
    "for case in no_pertub_dataset_locs.keys():\n",
    "    no_pertub_data_dict[case] = readPKL(no_pertub_dataset_locs[case])"
   ]
  },
  {
   "cell_type": "markdown",
   "metadata": {},
   "source": [
    "### Episode Mean Speed Plot"
   ]
  },
  {
   "cell_type": "code",
   "execution_count": 20,
   "metadata": {},
   "outputs": [],
   "source": [
    "no_perturb_agent_vel = {}\n",
    "for case in no_pertub_dataset_locs.keys():\n",
    "    global_vel_data = {}\n",
    "    for density in no_pertub_data_dict[case][\"data\"].keys():\n",
    "        vel_data = []\n",
    "        for episode_num in no_pertub_data_dict[case][\"data\"][density].keys():\n",
    "            episode_data = []\n",
    "            \n",
    "            for step in range(0, len(no_pertub_data_dict[case][\"data\"][density][episode_num][\"agent_vel\"])):\n",
    "                episode_data.append(no_pertub_data_dict[case][\"data\"][density][episode_num][\"agent_vel\"][step])\n",
    "            \n",
    "            \n",
    "            vel_data.append(episode_data)\n",
    "        \n",
    "        global_vel_data[density] = copy.deepcopy(vel_data)\n",
    "    no_perturb_agent_vel[case] = global_vel_data"
   ]
  },
  {
   "cell_type": "code",
   "execution_count": 21,
   "metadata": {},
   "outputs": [],
   "source": [
    "no_petrub_agent_speeds = {}\n",
    "density_dict = {}\n",
    "\n",
    "for case in no_perturb_agent_vel.keys():\n",
    "    \n",
    "    avg_speeds = []\n",
    "    densities = []\n",
    "    \n",
    "    for density in no_perturb_agent_vel[case].keys():\n",
    "        densities.append(density)\n",
    "        \n",
    "        speed_sum = 0.0\n",
    "        elements_count = 0\n",
    "        for episode in no_perturb_agent_vel[case][density]:\n",
    "            for vel in episode:\n",
    "                speed_sum += vel\n",
    "                elements_count += 1\n",
    "        \n",
    "        avg_speeds.append((speed_sum / elements_count) * 3.6)\n",
    "        \n",
    "    no_petrub_agent_speeds[case] = copy.deepcopy(avg_speeds)\n",
    "    density_dict[case] = copy.deepcopy(densities)\n"
   ]
  },
  {
   "cell_type": "code",
   "execution_count": 23,
   "metadata": {},
   "outputs": [
    {
     "data": {
      "image/png": "[encoded data removed]",
      "text/plain": [
       "<Figure size 432x288 with 1 Axes>"
      ]
     },
     "metadata": {
      "needs_background": "light"
     },
     "output_type": "display_data"
    }
   ],
   "source": [
    "width = 0.2\n",
    "start = -width\n",
    "\n",
    "for case in no_petrub_agent_speeds.keys():\n",
    "    #print(case)\n",
    "    plt.bar(np.arange(len(density_dict[case])) + start, no_petrub_agent_speeds[case], width=width, label=case)\n",
    "    #print(width)\n",
    "    start += 0.2\n",
    "\n",
    "plt.legend()\n",
    "plt.xticks(ticks=np.arange(len(density_dict[case])), labels=[0.2, 0.3, 0.4, 0.5, 0.6, 0.7])\n",
    "plt.xlabel(\"Traffic Density\")\n",
    "plt.ylabel(\"Speed (km/hr)\")\n",
    "plt.title(\"Episode Mean Speed\")\n",
    "plt.show()"
   ]
  },
  {
   "cell_type": "markdown",
   "metadata": {},
   "source": [
    "### Action Distribution"
   ]
  },
  {
   "cell_type": "code",
   "execution_count": 35,
   "metadata": {},
   "outputs": [],
   "source": [
    "no_pertubations_possible_actions = {\"acc\": 0, \"dec\": 0, \"do-nothing\": 0}\n",
    "no_pertub_act_dist = {}\n",
    "steps_count = {}\n",
    "\n",
    "for case in no_pertub_data_dict.keys():\n",
    "    \n",
    "    for density in no_pertub_data_dict[case][\"data\"].keys():\n",
    "        \n",
    "        no_pertub_act_dist[case][density] = copy.deepcopy(no_pertubations_possible_actions)\n",
    "        steps_count[case][density] = 0\n",
    "        \n",
    "        for episode_num in no_pertub_data_dict[case][\"data\"][density]:\n",
    "            for act in no_pertub_data_dict[case][\"data\"][density][episode_num][\"planner_actions\"]:\n",
    "                no_pertub_act_dist[case][act] += 1\n",
    "                steps_count[case] += 1"
   ]
  },
  {
   "cell_type": "code",
   "execution_count": 42,
   "metadata": {},
   "outputs": [],
   "source": [
    "for case in no_pertub_act_dist.keys():\n",
    "    \n",
    "    for element in no_pertub_act_dist[case].keys():\n",
    "            no_pertub_act_dist[case][element] /= steps_count[case]\n",
    "    \n",
    "    case_sum = 0.0\n",
    "    for element in no_pertub_act_dist[case].keys():\n",
    "        case_sum += no_pertub_act_dist[case][element]\n",
    "    \n",
    "    assert case_sum == 1.0"
   ]
  },
  {
   "cell_type": "code",
   "execution_count": 43,
   "metadata": {},
   "outputs": [
    {
     "data": {
      "text/plain": [
       "{'Only Local View': {'acc': 0.3405716292901184,\n",
       "  'dec': 0.16049919517651554,\n",
       "  'do-nothing': 0.4989291755333661},\n",
       " 'Full Access Comm.': {'acc': 0.5900140474071306,\n",
       "  'dec': 0.2899404501399004,\n",
       "  'do-nothing': 0.12004550245296905},\n",
       " 'Restricted Access Comm.': {'acc': 0.18305694456215688,\n",
       "  'dec': 0.09017399465742545,\n",
       "  'do-nothing': 0.7267690607804177}}"
      ]
     },
     "execution_count": 43,
     "metadata": {},
     "output_type": "execute_result"
    }
   ],
   "source": [
    "no_pertub_act_dist"
   ]
  },
  {
   "cell_type": "markdown",
   "metadata": {},
   "source": [
    "# All dataset  files location goes here"
   ]
  },
  {
   "cell_type": "code",
   "execution_count": 32,
   "metadata": {},
   "outputs": [
    {
     "name": "stdout",
     "output_type": "stream",
     "text": [
      "{'only local view': '/home/mayank/Videos/single-ring-road-with-light/SingleLaneIDM/OnlyLocalView//Results/dataset.pkl', 'full access comm': '/home/mayank/Videos/single-ring-road-with-light/SingleLaneIDM/CommFullAccess/Results/dataset.pkl', 'restriced access comm': '/home/mayank/Videos/single-ring-road-with-light/SingleLaneIDM/CommRestrictedAccess/Results/dataset.pkl'}\n"
     ]
    }
   ],
   "source": [
    "dataset_locs = {\n",
    "    'only local view': \"/home/mayank/Videos/single-ring-road-with-light/SingleLaneIDM/OnlyLocalView//Results/dataset.pkl\",\n",
    "    \"full access comm\": \"/home/mayank/Videos/single-ring-road-with-light/SingleLaneIDM/CommFullAccess/Results/dataset.pkl\",\n",
    "    \"restriced access comm\": \"/home/mayank/Videos/single-ring-road-with-light/SingleLaneIDM/CommRestrictedAccess/Results/dataset.pkl\",\n",
    "}\n",
    "\n",
    "print(dataset_locs)"
   ]
  },
  {
   "cell_type": "markdown",
   "metadata": {},
   "source": [
    "# Read all Dataset"
   ]
  },
  {
   "cell_type": "code",
   "execution_count": 33,
   "metadata": {},
   "outputs": [],
   "source": [
    "def readPKL(fname):\n",
    "    \n",
    "    with open(fname, \"rb\") as handle:\n",
    "        data_dict = pickle.load(handle)\n",
    "    \n",
    "    return copy.deepcopy(data_dict)"
   ]
  },
  {
   "cell_type": "code",
   "execution_count": 34,
   "metadata": {},
   "outputs": [],
   "source": [
    "data_dict = {}\n",
    "for case in dataset_locs.keys():\n",
    "    data_dict[case] = readPKL(dataset_locs[case])\n"
   ]
  },
  {
   "cell_type": "markdown",
   "metadata": {},
   "source": [
    "# Plot Agent Avg Speed"
   ]
  },
  {
   "cell_type": "code",
   "execution_count": 35,
   "metadata": {},
   "outputs": [],
   "source": [
    "agent_vel = {}\n",
    "\n",
    "for case in dataset_locs.keys():\n",
    "    \n",
    "    global_vel_data = {}\n",
    "    \n",
    "    for density in data_dict[case][\"data\"].keys():\n",
    "        vel_data = []\n",
    "        \n",
    "        for episode_num in data_dict[case][\"data\"][density].keys():\n",
    "            episode_data = []\n",
    "            \n",
    "            for step in range(0, len(data_dict[case][\"data\"][density][episode_num][\"agent_vel\"])):\n",
    "                episode_data.append(data_dict[case][\"data\"][density][episode_num][\"agent_vel\"][step])\n",
    "            \n",
    "            vel_data.append(episode_data)\n",
    "        \n",
    "        global_vel_data[density] = copy.deepcopy(vel_data)\n",
    "    \n",
    "    agent_vel[case] = global_vel_data"
   ]
  },
  {
   "cell_type": "code",
   "execution_count": 6,
   "metadata": {},
   "outputs": [],
   "source": [
    "# Length of episodes"
   ]
  },
  {
   "cell_type": "code",
   "execution_count": 36,
   "metadata": {},
   "outputs": [],
   "source": [
    "avg_speeds_case = {}\n",
    "density_dict = {}\n",
    "\n",
    "for case in agent_vel.keys():\n",
    "    \n",
    "    avg_speeds = []\n",
    "    densities = []\n",
    "    \n",
    "    for density in agent_vel[case].keys():\n",
    "        densities.append(density)\n",
    "        \n",
    "        speed_sum = 0.0\n",
    "        elements_count = 0\n",
    "        for episode in agent_vel[case][density]:\n",
    "            for vel in episode:\n",
    "                speed_sum += vel\n",
    "                elements_count += 1\n",
    "        \n",
    "        avg_speeds.append((speed_sum / elements_count) * 3.6)\n",
    "    \n",
    "    avg_speeds_case[case] = copy.deepcopy(avg_speeds)\n",
    "    density_dict[case] = copy.deepcopy(densities)"
   ]
  },
  {
   "cell_type": "code",
   "execution_count": 37,
   "metadata": {},
   "outputs": [
    {
     "data": {
      "text/plain": [
       "{'only local view': [12.446297008033763,\n",
       "  11.417813125968555,\n",
       "  9.498130960157729,\n",
       "  8.112635317876025,\n",
       "  6.424125692778512,\n",
       "  4.9684768144419795],\n",
       " 'full access comm': [13.946838496895143,\n",
       "  12.359725615405655,\n",
       "  10.231530030309015,\n",
       "  7.964076996528209,\n",
       "  6.464290830945328,\n",
       "  4.817404410745194],\n",
       " 'restriced access comm': [13.520460370907468,\n",
       "  11.867128456137783,\n",
       "  9.839106647129023,\n",
       "  7.916081111331805,\n",
       "  6.400338935518665,\n",
       "  4.820495870956592]}"
      ]
     },
     "execution_count": 37,
     "metadata": {},
     "output_type": "execute_result"
    }
   ],
   "source": [
    "avg_speeds_case"
   ]
  },
  {
   "cell_type": "code",
   "execution_count": 38,
   "metadata": {},
   "outputs": [
    {
     "name": "stdout",
     "output_type": "stream",
     "text": [
      "only local view\n",
      "0.2\n",
      "full access comm\n",
      "0.2\n",
      "restriced access comm\n",
      "0.2\n"
     ]
    },
    {
     "data": {
      "image/png": "[encoded data removed]",
      "text/plain": [
       "<Figure size 432x288 with 1 Axes>"
      ]
     },
     "metadata": {
      "needs_background": "light"
     },
     "output_type": "display_data"
    }
   ],
   "source": [
    "width = 0.2\n",
    "start = -width\n",
    "\n",
    "for case in avg_speeds_case.keys():\n",
    "    print(case)\n",
    "    plt.bar(np.arange(len(density_dict[case])) + start, avg_speeds_case[case], width=width, label=case)\n",
    "    print(width)\n",
    "    start += 0.2\n",
    "\n",
    "plt.legend()\n",
    "plt.xticks(ticks=np.arange(len(density_dict[case])), labels=[0.2, 0.3, 0.4, 0.5, 0.6, 0.7])\n",
    "plt.xlabel(\"Traffic Density\")\n",
    "plt.ylabel(\"Speed (km/hr)\")\n",
    "plt.title(\"Episode Mean Speed\")\n",
    "plt.show()"
   ]
  },
  {
   "cell_type": "code",
   "execution_count": 10,
   "metadata": {},
   "outputs": [
    {
     "data": {
      "text/plain": [
       "{'only local view': [12.446297008033763,\n",
       "  11.417813125968555,\n",
       "  9.498130960157729,\n",
       "  8.112635317876025,\n",
       "  6.424125692778512,\n",
       "  4.9684768144419795],\n",
       " 'full access comm': [13.946838496895143,\n",
       "  12.359725615405655,\n",
       "  10.231530030309015,\n",
       "  7.964076996528209,\n",
       "  6.464290830945328,\n",
       "  4.817404410745194],\n",
       " 'restriced access comm': [13.520460370907468,\n",
       "  11.867128456137783,\n",
       "  9.839106647129023,\n",
       "  7.916081111331805,\n",
       "  6.400338935518665,\n",
       "  4.820495870956592],\n",
       " 'full access comm with age': [13.319989050538299,\n",
       "  11.677418401917327,\n",
       "  9.829366032787341,\n",
       "  7.698189519819775,\n",
       "  5.912349189296889,\n",
       "  4.875985835977721]}"
      ]
     },
     "execution_count": 10,
     "metadata": {},
     "output_type": "execute_result"
    }
   ],
   "source": [
    "avg_speeds_case"
   ]
  }
 ],
 "metadata": {
  "kernelspec": {
   "display_name": "Python 3",
   "language": "python",
   "name": "python3"
  },
  "language_info": {
   "codemirror_mode": {
    "name": "ipython",
    "version": 3
   },
   "file_extension": ".py",
   "mimetype": "text/x-python",
   "name": "python",
   "nbconvert_exporter": "python",
   "pygments_lexer": "ipython3",
   "version": "3.6.8"
  }
 },
 "nbformat": 4,
 "nbformat_minor": 2
}
